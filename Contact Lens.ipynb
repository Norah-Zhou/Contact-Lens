{
 "cells": [
  {
   "cell_type": "code",
   "execution_count": 1,
   "metadata": {},
   "outputs": [],
   "source": [
    "import matplotlib.pyplot as plt\n",
    "import pandas as pd\n",
    "import pylab as pl\n",
    "import numpy as np\n",
    "%matplotlib inline\n",
    "\n",
    "#import all the required libraries.  Must run this or functions will not work\n"
   ]
  },
  {
   "cell_type": "code",
   "execution_count": 14,
   "metadata": {},
   "outputs": [],
   "source": [
    "df = pd.read_csv(\"C:/Users/Gary Chu/Desktop/Data Science/Contact Lens.csv\")\n",
    "# change the \\ to /\n",
    "                 "
   ]
  },
  {
   "cell_type": "code",
   "execution_count": 15,
   "metadata": {
    "scrolled": true
   },
   "outputs": [
    {
     "data": {
      "text/html": [
       "<div>\n",
       "<style scoped>\n",
       "    .dataframe tbody tr th:only-of-type {\n",
       "        vertical-align: middle;\n",
       "    }\n",
       "\n",
       "    .dataframe tbody tr th {\n",
       "        vertical-align: top;\n",
       "    }\n",
       "\n",
       "    .dataframe thead th {\n",
       "        text-align: right;\n",
       "    }\n",
       "</style>\n",
       "<table border=\"1\" class=\"dataframe\">\n",
       "  <thead>\n",
       "    <tr style=\"text-align: right;\">\n",
       "      <th></th>\n",
       "      <th>Survery</th>\n",
       "      <th>Age</th>\n",
       "      <th>ZipCode</th>\n",
       "      <th>Gender</th>\n",
       "      <th>CurrentType</th>\n",
       "      <th>CurrentAcuity</th>\n",
       "      <th>InitialAcuity</th>\n",
       "      <th>AgeFirstRx</th>\n",
       "      <th>Age18Acuity</th>\n",
       "      <th>Age30Acuity</th>\n",
       "      <th>TypeAt30</th>\n",
       "      <th>Changed to glasses contact both Lasik</th>\n",
       "      <th>Age when switched</th>\n",
       "      <th>Did not switch</th>\n",
       "      <th>Switch improve vision?</th>\n",
       "      <th>Regret Switching?</th>\n",
       "      <th>note</th>\n",
       "    </tr>\n",
       "  </thead>\n",
       "  <tbody>\n",
       "    <tr>\n",
       "      <th>0</th>\n",
       "      <td>1</td>\n",
       "      <td>48</td>\n",
       "      <td>95757</td>\n",
       "      <td>F</td>\n",
       "      <td>0</td>\n",
       "      <td>0</td>\n",
       "      <td>150</td>\n",
       "      <td>5</td>\n",
       "      <td>700</td>\n",
       "      <td>700</td>\n",
       "      <td>2</td>\n",
       "      <td>2</td>\n",
       "      <td>14.0</td>\n",
       "      <td>NaN</td>\n",
       "      <td>1.0</td>\n",
       "      <td>No</td>\n",
       "      <td>contact, lasik</td>\n",
       "    </tr>\n",
       "    <tr>\n",
       "      <th>1</th>\n",
       "      <td>2</td>\n",
       "      <td>48</td>\n",
       "      <td>95829</td>\n",
       "      <td>M</td>\n",
       "      <td>1</td>\n",
       "      <td>425</td>\n",
       "      <td>125</td>\n",
       "      <td>9</td>\n",
       "      <td>325</td>\n",
       "      <td>350</td>\n",
       "      <td>1</td>\n",
       "      <td>0</td>\n",
       "      <td>NaN</td>\n",
       "      <td>x</td>\n",
       "      <td>NaN</td>\n",
       "      <td>NaN</td>\n",
       "      <td>NaN</td>\n",
       "    </tr>\n",
       "    <tr>\n",
       "      <th>2</th>\n",
       "      <td>3</td>\n",
       "      <td>47</td>\n",
       "      <td>95831</td>\n",
       "      <td>F</td>\n",
       "      <td>1</td>\n",
       "      <td>600</td>\n",
       "      <td>300</td>\n",
       "      <td>14</td>\n",
       "      <td>350</td>\n",
       "      <td>450</td>\n",
       "      <td>1</td>\n",
       "      <td>1</td>\n",
       "      <td>24.0</td>\n",
       "      <td>NaN</td>\n",
       "      <td>0.0</td>\n",
       "      <td>No</td>\n",
       "      <td>NaN</td>\n",
       "    </tr>\n",
       "    <tr>\n",
       "      <th>3</th>\n",
       "      <td>4</td>\n",
       "      <td>76</td>\n",
       "      <td>95829</td>\n",
       "      <td>M</td>\n",
       "      <td>1</td>\n",
       "      <td>550</td>\n",
       "      <td>200</td>\n",
       "      <td>14</td>\n",
       "      <td>300</td>\n",
       "      <td>350</td>\n",
       "      <td>1</td>\n",
       "      <td>0</td>\n",
       "      <td>NaN</td>\n",
       "      <td>x</td>\n",
       "      <td>NaN</td>\n",
       "      <td>NaN</td>\n",
       "      <td>NaN</td>\n",
       "    </tr>\n",
       "    <tr>\n",
       "      <th>4</th>\n",
       "      <td>5</td>\n",
       "      <td>47</td>\n",
       "      <td>94502</td>\n",
       "      <td>F</td>\n",
       "      <td>1</td>\n",
       "      <td>600</td>\n",
       "      <td>70</td>\n",
       "      <td>10</td>\n",
       "      <td>400</td>\n",
       "      <td>550</td>\n",
       "      <td>3</td>\n",
       "      <td>3</td>\n",
       "      <td>17.0</td>\n",
       "      <td>NaN</td>\n",
       "      <td>2.0</td>\n",
       "      <td>No</td>\n",
       "      <td>NaN</td>\n",
       "    </tr>\n",
       "  </tbody>\n",
       "</table>\n",
       "</div>"
      ],
      "text/plain": [
       "   Survery  Age ZipCode Gender  CurrentType  CurrentAcuity  InitialAcuity  \\\n",
       "0        1   48   95757      F            0              0            150   \n",
       "1        2   48   95829      M            1            425            125   \n",
       "2        3   47   95831      F            1            600            300   \n",
       "3        4   76   95829      M            1            550            200   \n",
       "4        5   47   94502      F            1            600             70   \n",
       "\n",
       "   AgeFirstRx  Age18Acuity  Age30Acuity  TypeAt30  \\\n",
       "0           5          700          700         2   \n",
       "1           9          325          350         1   \n",
       "2          14          350          450         1   \n",
       "3          14          300          350         1   \n",
       "4          10          400          550         3   \n",
       "\n",
       "   Changed to glasses contact both Lasik  Age when switched Did not switch  \\\n",
       "0                                      2               14.0            NaN   \n",
       "1                                      0                NaN              x   \n",
       "2                                      1               24.0            NaN   \n",
       "3                                      0                NaN              x   \n",
       "4                                      3               17.0            NaN   \n",
       "\n",
       "   Switch improve vision? Regret Switching?            note  \n",
       "0                     1.0                No  contact, lasik  \n",
       "1                     NaN               NaN             NaN  \n",
       "2                     0.0                No             NaN  \n",
       "3                     NaN               NaN             NaN  \n",
       "4                     2.0                No             NaN  "
      ]
     },
     "execution_count": 15,
     "metadata": {},
     "output_type": "execute_result"
    }
   ],
   "source": [
    "df.head()\n"
   ]
  },
  {
   "cell_type": "code",
   "execution_count": 16,
   "metadata": {
    "scrolled": true
   },
   "outputs": [
    {
     "name": "stdout",
     "output_type": "stream",
     "text": [
      "<class 'pandas.core.frame.DataFrame'>\n",
      "RangeIndex: 62 entries, 0 to 61\n",
      "Data columns (total 17 columns):\n",
      " #   Column                                 Non-Null Count  Dtype  \n",
      "---  ------                                 --------------  -----  \n",
      " 0   Survery                                62 non-null     int64  \n",
      " 1   Age                                    62 non-null     int64  \n",
      " 2   ZipCode                                62 non-null     object \n",
      " 3   Gender                                 62 non-null     object \n",
      " 4   CurrentType                            62 non-null     int64  \n",
      " 5   CurrentAcuity                          62 non-null     int64  \n",
      " 6   InitialAcuity                          62 non-null     int64  \n",
      " 7   AgeFirstRx                             62 non-null     int64  \n",
      " 8   Age18Acuity                            62 non-null     int64  \n",
      " 9   Age30Acuity                            62 non-null     int64  \n",
      " 10  TypeAt30                               62 non-null     int64  \n",
      " 11  Changed to glasses contact both Lasik  62 non-null     int64  \n",
      " 12  Age when switched                      47 non-null     float64\n",
      " 13  Did not switch                         13 non-null     object \n",
      " 14  Switch improve vision?                 42 non-null     float64\n",
      " 15  Regret Switching?                      37 non-null     object \n",
      " 16  note                                   2 non-null      object \n",
      "dtypes: float64(2), int64(10), object(5)\n",
      "memory usage: 8.4+ KB\n"
     ]
    }
   ],
   "source": [
    "df.info()"
   ]
  },
  {
   "cell_type": "code",
   "execution_count": 8,
   "metadata": {},
   "outputs": [
    {
     "data": {
      "text/html": [
       "<div>\n",
       "<style scoped>\n",
       "    .dataframe tbody tr th:only-of-type {\n",
       "        vertical-align: middle;\n",
       "    }\n",
       "\n",
       "    .dataframe tbody tr th {\n",
       "        vertical-align: top;\n",
       "    }\n",
       "\n",
       "    .dataframe thead th {\n",
       "        text-align: right;\n",
       "    }\n",
       "</style>\n",
       "<table border=\"1\" class=\"dataframe\">\n",
       "  <thead>\n",
       "    <tr style=\"text-align: right;\">\n",
       "      <th></th>\n",
       "      <th>Survery</th>\n",
       "      <th>Age</th>\n",
       "      <th>Zip Code</th>\n",
       "      <th>Gender</th>\n",
       "      <th>Current Type</th>\n",
       "      <th>Current Acuity</th>\n",
       "      <th>Initial Acuity</th>\n",
       "      <th>Age first rx</th>\n",
       "      <th>Age 18 Acuity</th>\n",
       "      <th>Age 30 Acuity</th>\n",
       "      <th>Type at 30</th>\n",
       "      <th>Changed to glasses contact both Lasik</th>\n",
       "      <th>Age when switched</th>\n",
       "      <th>Did not switch</th>\n",
       "      <th>Switch improve vision?</th>\n",
       "      <th>Regret Switching?</th>\n",
       "      <th>note</th>\n",
       "      <th>Sex</th>\n",
       "    </tr>\n",
       "  </thead>\n",
       "  <tbody>\n",
       "    <tr>\n",
       "      <th>0</th>\n",
       "      <td>1</td>\n",
       "      <td>48</td>\n",
       "      <td>95757</td>\n",
       "      <td>0</td>\n",
       "      <td>0</td>\n",
       "      <td>0</td>\n",
       "      <td>150</td>\n",
       "      <td>5</td>\n",
       "      <td>700</td>\n",
       "      <td>700</td>\n",
       "      <td>2</td>\n",
       "      <td>2</td>\n",
       "      <td>14.0</td>\n",
       "      <td>NaN</td>\n",
       "      <td>1.0</td>\n",
       "      <td>No</td>\n",
       "      <td>contact, lasik</td>\n",
       "      <td>0</td>\n",
       "    </tr>\n",
       "    <tr>\n",
       "      <th>1</th>\n",
       "      <td>2</td>\n",
       "      <td>48</td>\n",
       "      <td>95829</td>\n",
       "      <td>1</td>\n",
       "      <td>1</td>\n",
       "      <td>425</td>\n",
       "      <td>125</td>\n",
       "      <td>9</td>\n",
       "      <td>325</td>\n",
       "      <td>350</td>\n",
       "      <td>1</td>\n",
       "      <td>0</td>\n",
       "      <td>NaN</td>\n",
       "      <td>x</td>\n",
       "      <td>NaN</td>\n",
       "      <td>NaN</td>\n",
       "      <td>NaN</td>\n",
       "      <td>1</td>\n",
       "    </tr>\n",
       "    <tr>\n",
       "      <th>2</th>\n",
       "      <td>3</td>\n",
       "      <td>47</td>\n",
       "      <td>95831</td>\n",
       "      <td>0</td>\n",
       "      <td>1</td>\n",
       "      <td>600</td>\n",
       "      <td>300</td>\n",
       "      <td>14</td>\n",
       "      <td>350</td>\n",
       "      <td>450</td>\n",
       "      <td>1</td>\n",
       "      <td>1</td>\n",
       "      <td>24.0</td>\n",
       "      <td>NaN</td>\n",
       "      <td>0.0</td>\n",
       "      <td>No</td>\n",
       "      <td>NaN</td>\n",
       "      <td>0</td>\n",
       "    </tr>\n",
       "    <tr>\n",
       "      <th>3</th>\n",
       "      <td>4</td>\n",
       "      <td>76</td>\n",
       "      <td>95829</td>\n",
       "      <td>1</td>\n",
       "      <td>1</td>\n",
       "      <td>550</td>\n",
       "      <td>200</td>\n",
       "      <td>14</td>\n",
       "      <td>300</td>\n",
       "      <td>350</td>\n",
       "      <td>1</td>\n",
       "      <td>0</td>\n",
       "      <td>NaN</td>\n",
       "      <td>x</td>\n",
       "      <td>NaN</td>\n",
       "      <td>NaN</td>\n",
       "      <td>NaN</td>\n",
       "      <td>1</td>\n",
       "    </tr>\n",
       "    <tr>\n",
       "      <th>4</th>\n",
       "      <td>5</td>\n",
       "      <td>47</td>\n",
       "      <td>94502</td>\n",
       "      <td>0</td>\n",
       "      <td>1</td>\n",
       "      <td>600</td>\n",
       "      <td>70</td>\n",
       "      <td>10</td>\n",
       "      <td>400</td>\n",
       "      <td>550</td>\n",
       "      <td>3</td>\n",
       "      <td>3</td>\n",
       "      <td>17.0</td>\n",
       "      <td>NaN</td>\n",
       "      <td>2.0</td>\n",
       "      <td>No</td>\n",
       "      <td>NaN</td>\n",
       "      <td>0</td>\n",
       "    </tr>\n",
       "    <tr>\n",
       "      <th>5</th>\n",
       "      <td>6</td>\n",
       "      <td>47</td>\n",
       "      <td>37087</td>\n",
       "      <td>0</td>\n",
       "      <td>1</td>\n",
       "      <td>40</td>\n",
       "      <td>225</td>\n",
       "      <td>42</td>\n",
       "      <td>160</td>\n",
       "      <td>160</td>\n",
       "      <td>1</td>\n",
       "      <td>0</td>\n",
       "      <td>NaN</td>\n",
       "      <td>x</td>\n",
       "      <td>NaN</td>\n",
       "      <td>NaN</td>\n",
       "      <td>NaN</td>\n",
       "      <td>0</td>\n",
       "    </tr>\n",
       "  </tbody>\n",
       "</table>\n",
       "</div>"
      ],
      "text/plain": [
       "   Survery  Age Zip Code  Gender  Current Type  Current Acuity  \\\n",
       "0        1   48    95757       0             0               0   \n",
       "1        2   48    95829       1             1             425   \n",
       "2        3   47    95831       0             1             600   \n",
       "3        4   76    95829       1             1             550   \n",
       "4        5   47    94502       0             1             600   \n",
       "5        6   47    37087       0             1              40   \n",
       "\n",
       "   Initial Acuity  Age first rx  Age 18 Acuity  Age 30 Acuity  Type at 30  \\\n",
       "0             150             5            700            700           2   \n",
       "1             125             9            325            350           1   \n",
       "2             300            14            350            450           1   \n",
       "3             200            14            300            350           1   \n",
       "4              70            10            400            550           3   \n",
       "5             225            42            160            160           1   \n",
       "\n",
       "   Changed to glasses contact both Lasik  Age when switched Did not switch  \\\n",
       "0                                      2               14.0            NaN   \n",
       "1                                      0                NaN              x   \n",
       "2                                      1               24.0            NaN   \n",
       "3                                      0                NaN              x   \n",
       "4                                      3               17.0            NaN   \n",
       "5                                      0                NaN              x   \n",
       "\n",
       "   Switch improve vision? Regret Switching?            note  Sex  \n",
       "0                     1.0                No  contact, lasik    0  \n",
       "1                     NaN               NaN             NaN    1  \n",
       "2                     0.0                No             NaN    0  \n",
       "3                     NaN               NaN             NaN    1  \n",
       "4                     2.0                No             NaN    0  \n",
       "5                     NaN               NaN             NaN    0  "
      ]
     },
     "execution_count": 8,
     "metadata": {},
     "output_type": "execute_result"
    }
   ],
   "source": [
    "#convert string values to integers 0 and 1\n",
    "df['Gender'] = df['Gender'].map({'M': 1, 'F':0, 'O':2})\n",
    "\n",
    "df.head(6)\n"
   ]
  },
  {
   "cell_type": "code",
   "execution_count": 9,
   "metadata": {},
   "outputs": [
    {
     "data": {
      "image/png": "[encoded data removed]",
      "text/plain": [
       "<Figure size 432x288 with 1 Axes>"
      ]
     },
     "metadata": {},
     "output_type": "display_data"
    }
   ],
   "source": [
    "\n",
    "labels = 'Male', 'Female', 'Other'\n",
    "sizes = [df.loc[df['Gender'] == 1].shape[0], df.loc[df['Gender'] == 0].shape[0], df.loc[df['Gender'] == 2].shape[0]]\n",
    "explode = (0, 0.1, 0) # Separate Female from Male\n",
    "plt.pie(sizes, explode=explode, labels=labels, autopct='%1.1f%%', shadow=True, startangle=90)\n",
    "\n",
    "plt.show()"
   ]
  },
  {
   "cell_type": "code",
   "execution_count": 12,
   "metadata": {},
   "outputs": [
    {
     "data": {
      "image/png": "[encoded data removed]",
      "text/plain": [
       "<Figure size 432x288 with 1 Axes>"
      ]
     },
     "metadata": {},
     "output_type": "display_data"
    },
    {
     "name": "stdout",
     "output_type": "stream",
     "text": [
      "At Age 30\n"
     ]
    }
   ],
   "source": [
    "labels = 'Glasses', 'Contact', 'Both'\n",
    "sizes = [df.loc[df['Type at 30'] == 1].shape[0], df.loc[df['Type at 30'] == 2].shape[0], df.loc[df['Type at 30'] == 3].shape[0]]\n",
    "explode = (0, 0.1, 0) # Separate Contact from others\n",
    "plt.pie(sizes, explode=explode, labels=labels, autopct='%1.1f%%', shadow=True, startangle=90)\n",
    "\n",
    "\n",
    "plt.show()\n",
    "print (\"At Age 30\")"
   ]
  },
  {
   "cell_type": "code",
   "execution_count": 18,
   "metadata": {},
   "outputs": [],
   "source": [
    "# load glasses at age 30\n",
    "g30df = pd.read_csv(\"C:/Users/Gary Chu/Desktop/Data Science/Glasses30.csv\")\n",
    "\n",
    "# load contact at age 30\n",
    "c30df = pd.read_csv(\"C:/Users/Gary Chu/Desktop/Data Science/Contact30.csv\")\n",
    "\n",
    "# load both at age 30\n",
    "b30df = pd.read_csv(\"C:/Users/Gary Chu/Desktop/Data Science/Both30.csv\")\n"
   ]
  },
  {
   "cell_type": "code",
   "execution_count": 19,
   "metadata": {},
   "outputs": [
    {
     "data": {
      "image/png": "[encoded data removed]",
      "text/plain": [
       "<Figure size 432x288 with 1 Axes>"
      ]
     },
     "metadata": {
      "needs_background": "light"
     },
     "output_type": "display_data"
    }
   ],
   "source": [
    "# plot scatter graph with relationship with vision at 18 to vision at 30, overall, incluidng all data\n",
    "\n",
    "plt.scatter(df.Age18Acuity, df.Age30Acuity,  color='blue')\n",
    "plt.xlabel(\"Age 18 Visual Acuity - Overall\")\n",
    "plt.ylabel(\"Age 30 Acuity\")\n",
    "plt.show()\n",
    "\n"
   ]
  },
  {
   "cell_type": "code",
   "execution_count": 20,
   "metadata": {},
   "outputs": [
    {
     "data": {
      "image/png": "[encoded data removed]",
      "text/plain": [
       "<Figure size 432x288 with 1 Axes>"
      ]
     },
     "metadata": {
      "needs_background": "light"
     },
     "output_type": "display_data"
    }
   ],
   "source": [
    "# plot scatter graph with relationship with vision at 18 to vision at 30 - Glasses at age 30\n",
    "\n",
    "\n",
    "plt.scatter(g30df.Age18Acuity, g30df.Age30Acuity,  color='green')\n",
    "plt.xlabel(\"Age 18 Visual Acuity - Glasses at 30\")\n",
    "plt.ylabel(\"Age 30 Acuity\")\n",
    "plt.show()\n"
   ]
  },
  {
   "cell_type": "code",
   "execution_count": 21,
   "metadata": {},
   "outputs": [
    {
     "data": {
      "image/png": "[encoded data removed]",
      "text/plain": [
       "<Figure size 432x288 with 1 Axes>"
      ]
     },
     "metadata": {
      "needs_background": "light"
     },
     "output_type": "display_data"
    }
   ],
   "source": [
    "# plot scatter graph with relationship with vision at 18 to vision at 30 - Contact at age 30\n",
    "\n",
    "plt.scatter(c30df.Age18Acuity, c30df.Age30Acuity,  color='red')\n",
    "plt.xlabel(\"Age 18 Visual Acuity - Contact at 30\")\n",
    "plt.ylabel(\"Age 30 Acuity\")\n",
    "plt.show()"
   ]
  },
  {
   "cell_type": "code",
   "execution_count": 22,
   "metadata": {},
   "outputs": [
    {
     "data": {
      "image/png": "[encoded data removed]",
      "text/plain": [
       "<Figure size 432x288 with 1 Axes>"
      ]
     },
     "metadata": {
      "needs_background": "light"
     },
     "output_type": "display_data"
    }
   ],
   "source": [
    "# plot scatter graph with relationship with vision at 18 to vision at 30 - Both at age 30\n",
    "\n",
    "plt.scatter(b30df.Age18Acuity, b30df.Age30Acuity,  color='black')\n",
    "plt.xlabel(\"Age 18 Visual Acuity - Both Contact & Glasses at 30\")\n",
    "plt.ylabel(\"Age 30 Acuity\")\n",
    "plt.show()"
   ]
  },
  {
   "cell_type": "markdown",
   "metadata": {},
   "source": [
    "# Training a Simple Linear Regression Model"
   ]
  },
  {
   "cell_type": "code",
   "execution_count": 24,
   "metadata": {},
   "outputs": [
    {
     "name": "stdout",
     "output_type": "stream",
     "text": [
      "Coefficients:  [[0.95484398]]\n",
      "Intercept:  [59.74826297]\n"
     ]
    }
   ],
   "source": [
    "# len() returns length of the string\n",
    "# split data set into train and test sets. 80% for training. 20% for testing\n",
    "# ~ invert all bits (not function)\n",
    "msk = np.random.rand(len(df)) < 0.8\n",
    "train = df[msk]  # assign train to random 80% of test data\n",
    "test = df[~msk]  # assign all data not in msk\n",
    "\n",
    "#import the model\n",
    "from sklearn import linear_model\n",
    "\n",
    "# Train regression model\n",
    "regr = linear_model.LinearRegression()\n",
    "train_x = np.asanyarray(train[['Age18Acuity']])\n",
    "train_y = np.asanyarray(train[['Age30Acuity']])\n",
    "regr.fit (train_x, train_y)\n",
    "\n",
    "# Print the coefficients\n",
    "print ('Coefficients: ', regr.coef_)\n",
    "print ('Intercept: ',regr.intercept_)"
   ]
  },
  {
   "cell_type": "code",
   "execution_count": 26,
   "metadata": {},
   "outputs": [
    {
     "data": {
      "text/plain": [
       "Text(0, 0.5, 'Age 30 Vision')"
      ]
     },
     "execution_count": 26,
     "metadata": {},
     "output_type": "execute_result"
    },
    {
     "data": {
      "image/png": "[encoded data removed]",
      "text/plain": [
       "<Figure size 432x288 with 1 Axes>"
      ]
     },
     "metadata": {
      "needs_background": "light"
     },
     "output_type": "display_data"
    }
   ],
   "source": [
    "#print the fit line over the data\n",
    "\n",
    "#print scatter graph of the data\n",
    "plt.scatter(train.Age18Acuity, train.Age30Acuity,  color='blue') \n",
    "\n",
    "#print the fit line\n",
    "plt.plot(train_x, regr.coef_[0][0]*train_x + regr.intercept_[0], '-r')\n",
    "\n",
    "#data label\n",
    "plt.xlabel(\"Age 18 Vision Acuity\")\n",
    "plt.ylabel(\"Age 30 Vision\")"
   ]
  },
  {
   "cell_type": "markdown",
   "metadata": {},
   "source": [
    "# Evaluation of the Model\n"
   ]
  },
  {
   "cell_type": "code",
   "execution_count": 27,
   "metadata": {},
   "outputs": [
    {
     "name": "stdout",
     "output_type": "stream",
     "text": [
      "Mean absolute error: 86.24\n",
      "Residual sum of squares (MSE): 17740.82\n",
      "R2-score: 0.29\n"
     ]
    }
   ],
   "source": [
    "from sklearn.metrics import r2_score\n",
    "\n",
    "test_x = np.asanyarray(test[['Age18Acuity']])\n",
    "test_y = np.asanyarray(test[['Age30Acuity']])\n",
    "test_y_hat = regr.predict(test_x)\n",
    "\n",
    "print(\"Mean absolute error: %.2f\" % np.mean(np.absolute(test_y_hat - test_y)))\n",
    "print(\"Residual sum of squares (MSE): %.2f\" % np.mean((test_y_hat - test_y) ** 2))\n",
    "print(\"R2-score: %.2f\" % r2_score(test_y_hat , test_y) )\n",
    "\n",
    "# R2 score of 0% indicates that the model explains none of the variability of the response data around its mean. (bad)\n",
    "# R2 score 100% indicates that the model explains all the variability of the response data around its mean. (good)\n",
    "# https://blog.minitab.com/blog/adventures-in-statistics-2/regression-analysis-how-do-i-interpret-r-squared-and-assess-the-goodness-of-fit\n"
   ]
  },
  {
   "cell_type": "markdown",
   "metadata": {},
   "source": [
    "# Creating a Muitiple Linear Regression Model\n"
   ]
  },
  {
   "cell_type": "code",
   "execution_count": 28,
   "metadata": {},
   "outputs": [
    {
     "name": "stdout",
     "output_type": "stream",
     "text": [
      "Coefficients:  [[0.12762357 0.92763207]]\n"
     ]
    }
   ],
   "source": [
    "# multiple regression model\n",
    "from sklearn import linear_model\n",
    "regr = linear_model.LinearRegression()\n",
    "x = np.asanyarray(train[['InitialAcuity','Age18Acuity']])\n",
    "y = np.asanyarray(train[['Age30Acuity']])\n",
    "regr.fit (x, y)\n",
    "# The coefficients\n",
    "print ('Coefficients: ', regr.coef_)"
   ]
  },
  {
   "cell_type": "code",
   "execution_count": 33,
   "metadata": {},
   "outputs": [
    {
     "data": {
      "text/plain": [
       "Text(0, 0.5, 'Age 30 Acuity')"
      ]
     },
     "execution_count": 33,
     "metadata": {},
     "output_type": "execute_result"
    },
    {
     "data": {
      "image/png": "[encoded data removed]",
      "text/plain": [
       "<Figure size 432x288 with 1 Axes>"
      ]
     },
     "metadata": {
      "needs_background": "light"
     },
     "output_type": "display_data"
    }
   ],
   "source": [
    "\n",
    "#print the fit line over the data\n",
    "from sklearn.metrics import mean_absolute_error\n",
    "\n",
    "#print scatter graph of the data\n",
    "plt.scatter(train.Age18Acuity, train.Age30Acuity,  color='blue') \n",
    "\n",
    "\n",
    "x1 = df.Age18Acuity\n",
    "y1 = 0.12762357*df.InitialAcuity + (0.92763207*df.Age18Acuity)\n",
    "\n",
    "#calculate the bias coefficient\n",
    "y0 = 0.12762357*train.InitialAcuity + (0.92763207*train.Age18Acuity)\n",
    "z1 = sum(abs(y0 - train.Age30Acuity)) / len(train)\n",
    "\n",
    "#print the fit line\n",
    "plt.plot(x1,y1+z1, color = 'red')\n",
    "#version 2\n",
    "plt.plot(x1,y1, color = 'green')\n",
    "\n",
    "\n",
    "#data label\n",
    "plt.xlabel(\"Age 18 Acuity\")\n",
    "plt.ylabel(\"Age 30 Acuity\")\n"
   ]
  },
  {
   "cell_type": "code",
   "execution_count": 31,
   "metadata": {},
   "outputs": [
    {
     "name": "stdout",
     "output_type": "stream",
     "text": [
      "Residual sum of squares: 19058.72\n",
      "Variance score: 0.68\n"
     ]
    }
   ],
   "source": [
    "# prediction\n",
    "y_hat= regr.predict(test[['InitialAcuity','Age18Acuity']])\n",
    "x = np.asanyarray(test[['InitialAcuity', 'Age18Acuity']])\n",
    "y = np.asanyarray(test[['Age30Acuity']])\n",
    "print(\"Residual sum of squares: %.2f\"\n",
    "      % np.mean((y_hat - y) ** 2))\n",
    "\n",
    "# Explained variance score: 1 is perfect prediction\n",
    "print('Variance score: %.2f' % regr.score(x, y))\n",
    "#  Best possible score is 1.0, lower values are worse."
   ]
  },
  {
   "cell_type": "code",
   "execution_count": 34,
   "metadata": {},
   "outputs": [
    {
     "data": {
      "text/plain": [
       "[<matplotlib.lines.Line2D at 0x18041d1fdc8>,\n",
       " <matplotlib.lines.Line2D at 0x18041d2a048>]"
      ]
     },
     "execution_count": 34,
     "metadata": {},
     "output_type": "execute_result"
    },
    {
     "data": {
      "image/png": "[encoded data removed]",
      "text/plain": [
       "<Figure size 432x288 with 1 Axes>"
      ]
     },
     "metadata": {
      "needs_background": "light"
     },
     "output_type": "display_data"
    }
   ],
   "source": []
  },
  {
   "cell_type": "code",
   "execution_count": null,
   "metadata": {},
   "outputs": [],
   "source": []
  }
 ],
 "metadata": {
  "kernelspec": {
   "display_name": "Python 3",
   "language": "python",
   "name": "python3"
  },
  "language_info": {
   "codemirror_mode": {
    "name": "ipython",
    "version": 3
   },
   "file_extension": ".py",
   "mimetype": "text/x-python",
   "name": "python",
   "nbconvert_exporter": "python",
   "pygments_lexer": "ipython3",
   "version": "3.7.6"
  }
 },
 "nbformat": 4,
 "nbformat_minor": 4
}
